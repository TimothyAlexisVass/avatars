{
  "cells": [
    {
      "cell_type": "code",
      "source": [
        "!git clone https://www.github.com/TimothyAlexisVass/udi\n",
        "!rm -r sample_data"
      ],
      "metadata": {
        "id": "_HZtfK6O3u9I"
      },
      "execution_count": null,
      "outputs": []
    },
    {
      "cell_type": "code",
      "source": [
        "!python3 /content/udi/launch --share"
      ],
      "metadata": {
        "id": "OWWxQJ9n30U9"
      },
      "execution_count": null,
      "outputs": []
    }
  ],
  "metadata": {
    "accelerator": "GPU",
    "colab": {
      "gpuType": "T4",
      "provenance": []
    },
    "kernelspec": {
      "display_name": "Python 3",
      "name": "python3"
    },
    "language_info": {
      "name": "python"
    }
  },
  "nbformat": 4,
  "nbformat_minor": 0
}