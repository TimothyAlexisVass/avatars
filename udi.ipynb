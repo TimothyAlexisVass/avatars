{
  "cells": [
    {
      "cell_type": "code",
      "source": [
        "!git clone https://www.github.com/TimothyAlexisVass/udi\n",
        "!rm -r sample_data"
      ],
      "metadata": {
        "id": "_HZtfK6O3u9I"
      },
      "execution_count": null,
      "outputs": []
    },
    {
      "cell_type": "code",
      "source": [
        "%cd /content/udi\n",
        "!git pull"
      ],
      "metadata": {
        "id": "wFHgQz_AH0Yu"
      },
      "execution_count": null,
      "outputs": []
    },
    {
      "cell_type": "code",
      "source": [
        "!lsof -ti:5000 | xargs kill\n",
        "!python3 /content/udi/launch --share"
      ],
      "metadata": {
        "id": "OWWxQJ9n30U9"
      },
      "execution_count": null,
      "outputs": []
    }
  ],
  "metadata": {
    "accelerator": "GPU",
    "colab": {
      "gpuType": "T4",
      "provenance": []
    },
    "kernelspec": {
      "display_name": "Python 3",
      "name": "python3"
    },
    "language_info": {
      "name": "python"
    }
  },
  "nbformat": 4,
  "nbformat_minor": 0
}