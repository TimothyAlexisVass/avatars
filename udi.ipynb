{
  "cells": [
    {
      "cell_type": "code",
      "source": [
        "!mv /content/id_rsa /root/.ssh/id_rsa\n",
        "!chmod 600 /root/.ssh/id_rsa\n",
        "!ssh-keyscan github.com >> ~/.ssh/known_hosts\n",
        "!git clone git@github.com:TimothyAlexisVass/udi.git\n",
        "!rm -r sample_data"
      ],
      "metadata": {
        "id": "_HZtfK6O3u9I"
      },
      "execution_count": null,
      "outputs": []
    },
    {
      "cell_type": "code",
      "source": [
        "%cd /content/udi\n",
        "!git pull"
      ],
      "metadata": {
        "id": "wFHgQz_AH0Yu"
      },
      "execution_count": null,
      "outputs": []
    },
    {
      "cell_type": "code",
      "source": [
        "!lsof -ti:5000 | xargs kill\n",
        "!python3 /content/udi/launch --share"
      ],
      "metadata": {
        "id": "OWWxQJ9n30U9"
      },
      "execution_count": null,
      "outputs": []
    }
  ],
  "metadata": {
    "accelerator": "GPU",
    "colab": {
      "gpuType": "T4",
      "provenance": []
    },
    "kernelspec": {
      "display_name": "Python 3",
      "name": "python3"
    },
    "language_info": {
      "name": "python"
    }
  },
  "nbformat": 4,
  "nbformat_minor": 0
}