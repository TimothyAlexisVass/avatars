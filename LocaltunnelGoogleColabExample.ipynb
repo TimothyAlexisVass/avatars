{
  "cells": [
    {
      "cell_type": "code",
      "source": [
        "!pip install -qq --upgrade flask-localtunnel\n",
        "!pip install flask"
      ],
      "metadata": {
        "id": "GHrPrWYgskXZ"
      },
      "execution_count": 5,
      "outputs": []
    },
    {
      "cell_type": "markdown",
      "source": [
        "# IP Address to access the application\n",
        "### Run this cell and copy the IP address"
      ],
      "metadata": {
        "id": "emrnx88W32Mm"
      }
    },
    {
      "cell_type": "code",
      "source": [
        "!curl ipv4.icanhazip.com"
      ],
      "metadata": {
        "id": "5AihhBYO4AG-"
      },
      "execution_count": null,
      "outputs": []
    },
    {
      "cell_type": "markdown",
      "source": [
        "# Start the server\n",
        "### Run the below cell and click the \"your url is\"-link.\n",
        "You will need to paste the IP-address in the new window."
      ],
      "metadata": {
        "id": "NXb_0rlh4UBX"
      }
    },
    {
      "cell_type": "code",
      "source": [
        "from flask import Flask\n",
        "from flask_lt import run_with_lt\n",
        "\n",
        "app = Flask(__name__)\n",
        "\n",
        "run_with_lt(app)\n",
        "@app.route(\"/\")\n",
        "def hello():\n",
        "    return \"Cool stuff!\"\n",
        "\n",
        "if __name__ == '__main__':\n",
        "    app.run()"
      ],
      "metadata": {
        "id": "5P6TPOJuu87Z"
      },
      "execution_count": null,
      "outputs": []
    }
  ],
  "metadata": {
    "colab": {
      "name": "Welcome To Colaboratory",
      "toc_visible": true,
      "provenance": []
    },
    "kernelspec": {
      "display_name": "Python 3",
      "name": "python3"
    }
  },
  "nbformat": 4,
  "nbformat_minor": 0
}