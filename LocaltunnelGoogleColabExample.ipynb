{
  "cells": [
    {
      "cell_type": "code",
      "source": [
        "!pip install -qq --upgrade flask-localtunnel flask"
      ],
      "metadata": {
        "id": "GHrPrWYgskXZ"
      },
      "execution_count": null,
      "outputs": []
    },
    {
      "cell_type": "code",
      "source": [
        "from flask import Flask\n",
        "from flask_lt import run_with_lt\n",
        "\n",
        "app = Flask(__name__)\n",
        "!curl ipv4.icanhazip.com\n",
        "run_with_lt(app)\n",
        "@app.route(\"/\")\n",
        "def hello():\n",
        "    return \"Cool stuff!\"\n",
        "\n",
        "if __name__ == '__main__':\n",
        "    app.run()"
      ],
      "metadata": {
        "id": "5P6TPOJuu87Z"
      },
      "execution_count": null,
      "outputs": []
    }
  ],
  "metadata": {
    "colab": {
      "name": "Welcome To Colaboratory",
      "toc_visible": true,
      "provenance": []
    },
    "kernelspec": {
      "display_name": "Python 3",
      "name": "python3"
    }
  },
  "nbformat": 4,
  "nbformat_minor": 0
}