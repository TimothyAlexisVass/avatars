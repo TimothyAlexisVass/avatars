{
  "cells": [
    {
      "cell_type": "code",
      "execution_count": null,
      "metadata": {
        "id": "eib5J7TxG5kY"
      },
      "outputs": [],
      "source": [
        "# Install dependencies.\n",
        "!rm -r sample_data\n",
        "!pip install -qq --upgrade transformers compel accelerate diffusers\n",
        "from IPython.display import clear_output\n",
        "clear_output()"
      ]
    },
    {
      "cell_type": "code",
      "execution_count": null,
      "metadata": {
        "id": "fL7u2wgpHilQ"
      },
      "outputs": [],
      "source": [
        "# Set the details for your model here:\n",
        "import torch\n",
        "\n",
        "from diffusers import AutoencoderKL, StableDiffusionXLPipeline, StableDiffusionXLImg2ImgPipeline\n",
        "\n",
        "vae = AutoencoderKL.from_pretrained(\"madebyollin/sdxl-vae-fp16-fix\", torch_dtype=torch.float16)\n",
        "base = StableDiffusionXLPipeline.from_pretrained(\"stabilityai/stable-diffusion-xl-base-1.0\",\n",
        "    vae=vae,\n",
        "    torch_dtype=torch.float16,\n",
        "    variant=\"fp16\",\n",
        "    use_safetensors=True,\n",
        "    add_watermarker=False\n",
        ").to(\"cuda\")\n",
        "\n",
        "clear_output()"
      ]
    },
    {
      "cell_type": "code",
      "source": [
        "@torch.no_grad()\n",
        "def decode_latents(vae, latents, pipe):\n",
        "    print(vae.config.scaling_factor)\n",
        "    latents = latents / vae.config.scaling_factor\n",
        "    image = vae.decode(latents).sample[0]\n",
        "    image = image.mul(0.5).add(0.5).clamp(0, 1)\n",
        "    image = image.cpu().permute(1, 2, 0).numpy()\n",
        "    return pipe.numpy_to_pil(image)\n",
        "\n",
        "negative_prompt = \"bokeh,blur,blurry,blurred image,painting,artwork,blocky,ugly,old,boring,photoshopped,tired,wrinkles,scar,gray hair,big forehead,crosseyed,dumb,stupid,cockeyed,disfigured,assymetrical,unrealistic,grayscale,bad anatomy,unnatural irises,no pupils,blurry eyes,dark eyes,extra limbs,deformed,disfigured eyes,out of frame,no irises,assymetrical face,broken fingers,extra fingers,disfigured hands\"\n",
        "prompt = \"close up Photograph of woman in red dress in a luxury garden surrounded with blue,yellow,purple and flowers in many colors,high class,award-winning photography,Portra 400,full format\"\n",
        "\n",
        "latents = base(prompt, negative_prompt=negative_prompt, num_inference_steps=20, width=1280, height=832, guidance_scale = 8, output_type=\"latent\").images\n",
        "\n",
        "display(decode_latents(base.vae, latents, base)[0])"
      ],
      "metadata": {
        "id": "gbjnmaCOdC7Z"
      },
      "execution_count": null,
      "outputs": []
    },
    {
      "cell_type": "code",
      "source": [],
      "metadata": {
        "id": "G0fcNKi_dh0U"
      },
      "execution_count": null,
      "outputs": []
    }
  ],
  "metadata": {
    "accelerator": "GPU",
    "colab": {
      "gpuType": "T4",
      "provenance": []
    },
    "kernelspec": {
      "display_name": "Python 3",
      "name": "python3"
    },
    "language_info": {
      "name": "python"
    }
  },
  "nbformat": 4,
  "nbformat_minor": 0
}