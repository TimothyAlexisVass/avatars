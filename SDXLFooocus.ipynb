{
  "cells": [
    {
      "cell_type": "code",
      "execution_count": 1,
      "metadata": {
        "id": "VjYy0F2gZIPR",
        "cellView": "form"
      },
      "outputs": [],
      "source": [
        "#@markdown # 1. Install Fooocus\n",
        "!git clone https://github.com/lllyasviel/Fooocus /content/Fooocus\n",
        "%cd /content/Fooocus\n",
        "!pip install pygit2==1.12.2\n",
        "!pip install huggingface_hub\n",
        "from IPython.display import clear_output\n",
        "clear_output()"
      ]
    },
    {
      "cell_type": "code",
      "source": [
        "#@markdown ## 2. Get LoRA from huggingface\n",
        "#@markdown Your HF_TOKEN is located at: https://huggingface.co/settings/tokens\n",
        "HF_TOKEN = \"hf_...\" #@param {type:\"string\"}\n",
        "HF_USERNAME = \"TimothyAlexisVass\" #@param {type:\"string\"}\n",
        "HF_MODEL_NAME = \"my-model-name\" #@param {type:\"string\"}\n",
        "HF_CHECKPOINT_FILENAME = \"sdxl-dreambooth-lora-000010.safetensors\" #@param {type:\"string\"}\n",
        "#@markdown ## If you want to use a file from your local storage, put it in Fooocus/models/loras instead without running this cell.\n",
        "from huggingface_hub import login, hf_hub_download\n",
        "login(HF_TOKEN)\n",
        "\n",
        "hf_hub_download(\n",
        "    repo_id=f\"{HF_USERNAME}/{HF_MODEL_NAME}\",\n",
        "    filename=HF_CHECKPOINT_FILENAME,\n",
        "    local_dir=\"/content/Fooocus/models/loras\",\n",
        "    local_dir_use_symlinks=False\n",
        "    )"
      ],
      "metadata": {
        "cellView": "form",
        "id": "lfRe1Ux-M--q"
      },
      "execution_count": null,
      "outputs": []
    },
    {
      "cell_type": "code",
      "source": [
        "#@markdown ## 3. Start **Fooocus** and wait for the link to the GUI.\n",
        "#@markdown ## It will be something similar to text123and43numbers12345.gradio.live/\n",
        "!python entry_with_update.py --share"
      ],
      "metadata": {
        "cellView": "form",
        "id": "1TjtCaxkL0lp"
      },
      "execution_count": null,
      "outputs": []
    }
  ],
  "metadata": {
    "accelerator": "GPU",
    "colab": {
      "gpuType": "T4",
      "provenance": []
    },
    "kernelspec": {
      "display_name": "Python 3",
      "name": "python3"
    },
    "language_info": {
      "name": "python"
    }
  },
  "nbformat": 4,
  "nbformat_minor": 0
}